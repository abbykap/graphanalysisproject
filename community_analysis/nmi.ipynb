{
 "cells": [
  {
   "cell_type": "code",
   "execution_count": null,
   "metadata": {},
   "outputs": [],
   "source": []
  },
  {
   "cell_type": "code",
   "execution_count": 11,
   "metadata": {},
   "outputs": [
    {
     "name": "stdout",
     "output_type": "stream",
     "text": [
      "Reading communities from /lustre/orion/gen150/world-shared/abby-summer24/nawsdatasets/outputs/coPapersDBLP_with_weights.mtx.hipmcl64\n",
      "Total nodes read in /lustre/orion/gen150/world-shared/abby-summer24/nawsdatasets/outputs/coPapersDBLP_with_weights.mtx.hipmcl64: 521374\n",
      "Reading communities from /lustre/orion/gen150/world-shared/abby-summer24/nawsdatasets/hipdpl_new/coPapersDBLP_new.txt\n",
      "Total nodes read in /lustre/orion/gen150/world-shared/abby-summer24/nawsdatasets/hipdpl_new/coPapersDBLP_new.txt: 540486\n",
      "Total common nodes: 521374\n",
      "Calculating NMI...\n",
      "NMI Score: 0.6024629850132851\n"
     ]
    }
   ],
   "source": [
    "import os\n",
    "from sklearn.metrics import normalized_mutual_info_score\n",
    "\n",
    "def read_communities(file_path):\n",
    "    \"\"\"\n",
    "    Reads a community output file where each line starts with a community ID \n",
    "    followed by a list of nodes belonging to that community.\n",
    "    \"\"\"\n",
    "    node_to_community = {}\n",
    "    print(f\"Reading communities from {file_path}\")\n",
    "    with open(file_path, 'r') as f:\n",
    "        for line in f:\n",
    "            parts = line.strip().split()\n",
    "            if len(parts) < 2:\n",
    "                continue  # Skip lines that don't have both a community ID and nodes\n",
    "            community_id = int(parts[0])  # First element is the community ID\n",
    "            nodes = list(map(int, parts[1:]))  # Remaining elements are nodes in that community\n",
    "            for node in nodes:\n",
    "                node_to_community[node] = community_id  # Map each node to its community\n",
    "    print(f\"Total nodes read in {file_path}: {len(node_to_community)}\")\n",
    "    return node_to_community\n",
    "\n",
    "# File paths for the two community output files\n",
    "file_path_1 = '/lustre/orion/gen150/world-shared/abby-summer24/nawsdatasets/outputs/coPapersDBLP_with_weights.mtx.hipmcl64'\n",
    "file_path_2 = '/lustre/orion/gen150/world-shared/abby-summer24/nawsdatasets/hipdpl_new/coPapersDBLP_new.txt'\n",
    "\n",
    "# Read the community data from both files\n",
    "communities_1 = read_communities(file_path_1)\n",
    "communities_2 = read_communities(file_path_2)\n",
    "\n",
    "# Find the common nodes between the two community files\n",
    "common_nodes = set(communities_1.keys()) & set(communities_2.keys())\n",
    "print(f\"Total common nodes: {len(common_nodes)}\")\n",
    "\n",
    "# Extract community assignments for common nodes\n",
    "communities_1_common = [communities_1[node] for node in sorted(common_nodes)]\n",
    "communities_2_common = [communities_2[node] for node in sorted(common_nodes)]\n",
    "\n",
    "# Check if we have valid data for NMI calculation\n",
    "if len(communities_1_common) == 0 or len(communities_2_common) == 0:\n",
    "    print(\"No valid common nodes found; cannot calculate NMI.\")\n",
    "else:\n",
    "    # Calculate NMI\n",
    "    print(\"Calculating NMI...\")\n",
    "    nmi_score = normalized_mutual_info_score(communities_1_common, communities_2_common)\n",
    "    print(f\"NMI Score: {nmi_score}\")\n"
   ]
  }
 ],
 "metadata": {
  "kernelspec": {
   "display_name": "Python 3",
   "language": "python",
   "name": "python3"
  },
  "language_info": {
   "codemirror_mode": {
    "name": "ipython",
    "version": 3
   },
   "file_extension": ".py",
   "mimetype": "text/x-python",
   "name": "python",
   "nbconvert_exporter": "python",
   "pygments_lexer": "ipython3",
   "version": "3.6.15"
  }
 },
 "nbformat": 4,
 "nbformat_minor": 2
}
