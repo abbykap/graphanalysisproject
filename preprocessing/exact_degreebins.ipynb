{
 "cells": [
  {
   "cell_type": "code",
   "execution_count": 1,
   "metadata": {},
   "outputs": [
    {
     "name": "stdout",
     "output_type": "stream",
     "text": [
      "Processing webbase-1M.mtx in domain Web...\n",
      "Processing uk-2002.mtx in domain Web...\n"
     ]
    },
    {
     "ename": "KeyboardInterrupt",
     "evalue": "",
     "output_type": "error",
     "traceback": [
      "\u001b[0;31m---------------------------------------------------------------------------\u001b[0m",
      "\u001b[0;31mKeyboardInterrupt\u001b[0m                         Traceback (most recent call last)",
      "\u001b[0;32m<ipython-input-1-d6f2c12b24d7>\u001b[0m in \u001b[0;36m<module>\u001b[0;34m\u001b[0m\n\u001b[1;32m     79\u001b[0m \u001b[0mmain_directory\u001b[0m \u001b[0;34m=\u001b[0m \u001b[0;34m'/lustre/orion/gen150/world-shared/abby-summer24/nawsdatasets/degrees'\u001b[0m  \u001b[0;31m# Replace with the path to your main directory\u001b[0m\u001b[0;34m\u001b[0m\u001b[0;34m\u001b[0m\u001b[0m\n\u001b[1;32m     80\u001b[0m \u001b[0moutput_csv\u001b[0m \u001b[0;34m=\u001b[0m \u001b[0;34m'degree_distributions.csv'\u001b[0m\u001b[0;34m\u001b[0m\u001b[0;34m\u001b[0m\u001b[0m\n\u001b[0;32m---> 81\u001b[0;31m \u001b[0mprocess_main_directory_to_csv\u001b[0m\u001b[0;34m(\u001b[0m\u001b[0mmain_directory\u001b[0m\u001b[0;34m,\u001b[0m \u001b[0moutput_csv\u001b[0m\u001b[0;34m)\u001b[0m\u001b[0;34m\u001b[0m\u001b[0;34m\u001b[0m\u001b[0m\n\u001b[0m",
      "\u001b[0;32m<ipython-input-1-d6f2c12b24d7>\u001b[0m in \u001b[0;36mprocess_main_directory_to_csv\u001b[0;34m(main_directory, output_csv)\u001b[0m\n\u001b[1;32m     61\u001b[0m                 \u001b[0mprint\u001b[0m\u001b[0;34m(\u001b[0m\u001b[0;34mf\"Processing {filename} in domain {domain_name}...\"\u001b[0m\u001b[0;34m)\u001b[0m\u001b[0;34m\u001b[0m\u001b[0;34m\u001b[0m\u001b[0m\n\u001b[1;32m     62\u001b[0m \u001b[0;34m\u001b[0m\u001b[0m\n\u001b[0;32m---> 63\u001b[0;31m                 \u001b[0mbinned_counts\u001b[0m \u001b[0;34m=\u001b[0m \u001b[0mcount_degrees\u001b[0m\u001b[0;34m(\u001b[0m\u001b[0mfile_path\u001b[0m\u001b[0;34m)\u001b[0m\u001b[0;34m\u001b[0m\u001b[0;34m\u001b[0m\u001b[0m\n\u001b[0m\u001b[1;32m     64\u001b[0m \u001b[0;34m\u001b[0m\u001b[0m\n\u001b[1;32m     65\u001b[0m                 \u001b[0;32mfor\u001b[0m \u001b[0mdegree_bin\u001b[0m\u001b[0;34m,\u001b[0m \u001b[0mcount\u001b[0m \u001b[0;32min\u001b[0m \u001b[0mbinned_counts\u001b[0m\u001b[0;34m.\u001b[0m\u001b[0mitems\u001b[0m\u001b[0;34m(\u001b[0m\u001b[0;34m)\u001b[0m\u001b[0;34m:\u001b[0m\u001b[0;34m\u001b[0m\u001b[0;34m\u001b[0m\u001b[0m\n",
      "\u001b[0;32m<ipython-input-1-d6f2c12b24d7>\u001b[0m in \u001b[0;36mcount_degrees\u001b[0;34m(file_path)\u001b[0m\n\u001b[1;32m     13\u001b[0m     \u001b[0;32mwith\u001b[0m \u001b[0mopen\u001b[0m\u001b[0;34m(\u001b[0m\u001b[0mfile_path\u001b[0m\u001b[0;34m,\u001b[0m \u001b[0;34m'r'\u001b[0m\u001b[0;34m)\u001b[0m \u001b[0;32mas\u001b[0m \u001b[0mfile\u001b[0m\u001b[0;34m:\u001b[0m\u001b[0;34m\u001b[0m\u001b[0;34m\u001b[0m\u001b[0m\n\u001b[1;32m     14\u001b[0m         \u001b[0;32mfor\u001b[0m \u001b[0mline\u001b[0m \u001b[0;32min\u001b[0m \u001b[0mfile\u001b[0m\u001b[0;34m:\u001b[0m\u001b[0;34m\u001b[0m\u001b[0;34m\u001b[0m\u001b[0m\n\u001b[0;32m---> 15\u001b[0;31m             \u001b[0mline\u001b[0m \u001b[0;34m=\u001b[0m \u001b[0mline\u001b[0m\u001b[0;34m.\u001b[0m\u001b[0mstrip\u001b[0m\u001b[0;34m(\u001b[0m\u001b[0;34m)\u001b[0m\u001b[0;34m\u001b[0m\u001b[0;34m\u001b[0m\u001b[0m\n\u001b[0m\u001b[1;32m     16\u001b[0m             \u001b[0;32mif\u001b[0m \u001b[0mline\u001b[0m\u001b[0;34m.\u001b[0m\u001b[0mstartswith\u001b[0m\u001b[0;34m(\u001b[0m\u001b[0;34m'%'\u001b[0m\u001b[0;34m)\u001b[0m \u001b[0;32mor\u001b[0m \u001b[0;32mnot\u001b[0m \u001b[0mline\u001b[0m\u001b[0;34m:\u001b[0m\u001b[0;34m\u001b[0m\u001b[0;34m\u001b[0m\u001b[0m\n\u001b[1;32m     17\u001b[0m                 \u001b[0;32mcontinue\u001b[0m  \u001b[0;31m# Skip comments and empty lines\u001b[0m\u001b[0;34m\u001b[0m\u001b[0;34m\u001b[0m\u001b[0m\n",
      "\u001b[0;31mKeyboardInterrupt\u001b[0m: "
     ]
    }
   ],
   "source": [
    "import os\n",
    "from collections import defaultdict\n",
    "import pandas as pd\n",
    "\n",
    "def count_degrees(file_path):\n",
    "    \"\"\"\n",
    "    Process a single Matrix Market edge list file and return a dictionary of exact degree counts.\n",
    "    \"\"\"\n",
    "    degree_dict = defaultdict(int)\n",
    "    matrix_size_skipped = False  # Flag to skip the matrix size line\n",
    "\n",
    "    with open(file_path, 'r') as file:\n",
    "        for line in file:\n",
    "            line = line.strip()\n",
    "            if line.startswith('%') or not line:\n",
    "                continue  # Skip comments and empty lines\n",
    "\n",
    "            # Skip the first non-comment line with matrix size information\n",
    "            if not matrix_size_skipped:\n",
    "                matrix_size_skipped = True\n",
    "                continue\n",
    "\n",
    "            # Update the degrees for both nodes\n",
    "            u, v = map(int, line.split()[:2])\n",
    "            degree_dict[u] += 1\n",
    "            degree_dict[v] += 1\n",
    "\n",
    "    # Count how many nodes have each specific degree\n",
    "    degree_counts = defaultdict(int)\n",
    "    for degree in degree_dict.values():\n",
    "        degree_counts[degree] += 1\n",
    "\n",
    "    # Ensure degrees with zero nodes are counted (e.g., 0-degree nodes)\n",
    "    max_degree = max(degree_counts.keys()) if degree_counts else 0\n",
    "    for i in range(max_degree + 1):\n",
    "        if i not in degree_counts:\n",
    "            degree_counts[i] = 0\n",
    "\n",
    "    return degree_counts\n",
    "\n",
    "def process_main_directory_to_csv(main_directory, output_csv):\n",
    "    \"\"\"\n",
    "    Process each subdirectory within the main directory and save exact degree distributions to a CSV.\n",
    "    Each subdirectory represents a domain.\n",
    "    \"\"\"\n",
    "    results = []\n",
    "\n",
    "    # Loop through each subdirectory (domain)\n",
    "    for domain_name in os.listdir(main_directory):\n",
    "        domain_path = os.path.join(main_directory, domain_name)\n",
    "        if not os.path.isdir(domain_path):\n",
    "            continue  # Skip non-directory files\n",
    "\n",
    "        # Process each file in the subdirectory\n",
    "        for filename in os.listdir(domain_path):\n",
    "            if filename.endswith(\".mtx\"):\n",
    "                file_path = os.path.join(domain_path, filename)\n",
    "                print(f\"Processing {filename} in domain {domain_name}...\")\n",
    "\n",
    "                degree_counts = count_degrees(file_path)\n",
    "\n",
    "                for degree, count in sorted(degree_counts.items()):\n",
    "                    results.append({\n",
    "                        'filename': filename,\n",
    "                        'domain': domain_name,\n",
    "                        'degree': degree,\n",
    "                        'count': count\n",
    "                    })\n",
    "\n",
    "    # Write results to CSV\n",
    "    df = pd.DataFrame(results)\n",
    "    df.to_csv(output_csv, index=False)\n",
    "    print(f\"Exact degree distribution data saved to {output_csv}\")\n",
    "\n",
    "# Run the function on the main directory containing all domain subdirectories\n",
    "main_directory = '/lustre/orion/gen150/world-shared/abby-summer24/nawsdatasets/degrees'  # Replace with the path to your main directory\n",
    "output_csv = 'exact_degree_distributions.csv'\n",
    "process_main_directory_to_csv(main_directory, output_csv)\n"
   ]
  }
 ],
 "metadata": {
  "kernelspec": {
   "display_name": "Python 3",
   "language": "python",
   "name": "python3"
  },
  "language_info": {
   "codemirror_mode": {
    "name": "ipython",
    "version": 3
   },
   "file_extension": ".py",
   "mimetype": "text/x-python",
   "name": "python",
   "nbconvert_exporter": "python",
   "pygments_lexer": "ipython3",
   "version": "3.6.15"
  }
 },
 "nbformat": 4,
 "nbformat_minor": 2
}
