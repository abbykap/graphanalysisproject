{
 "cells": [
  {
   "cell_type": "code",
   "execution_count": 1,
   "metadata": {},
   "outputs": [
    {
     "name": "stdout",
     "output_type": "stream",
     "text": [
      "Converted format written to /lustre/orion/gen150/world-shared/abby-summer24/hipmcldatasets/proteinhipdplcommunities/new/euk.bin_new2.txt\n",
      "Converted format written to /lustre/orion/gen150/world-shared/abby-summer24/hipmcldatasets/proteinhipdplcommunities/new/vir.bin_new2.txt\n",
      "Converted format written to /lustre/orion/gen150/world-shared/abby-summer24/hipmcldatasets/proteinhipdplcommunities/new/arch.bin_new2.txt\n"
     ]
    }
   ],
   "source": [
    "import os\n",
    "from collections import defaultdict\n",
    "\n",
    "# Changes the format of the HipDPL communities to match the format of the HipMCL communities \n",
    "\n",
    "input_directory = '/lustre/orion/gen150/world-shared/abby-summer24/hipmcldatasets/proteinhipdplcommunities/'  # Directory containing input files\n",
    "output_directory = '/lustre/orion/gen150/world-shared/abby-summer24/hipmcldatasets/proteinhipdplcommunities/new/'  # Directory to store output files\n",
    "\n",
    "# Ensure the output directory exists\n",
    "os.makedirs(output_directory, exist_ok=True)\n",
    "\n",
    "# Loop through each file in the input directory\n",
    "for input_file in os.listdir(input_directory):\n",
    "    if input_file.endswith('.communities'):  # Only process .txt files\n",
    "        input_path = os.path.join(input_directory, input_file)\n",
    "        output_path = os.path.join(output_directory, f\"{os.path.splitext(input_file)[0]}_new2.txt\")  # Output file\n",
    "\n",
    "        # Initialize a dictionary to hold communities\n",
    "        communities = defaultdict(list)\n",
    "\n",
    "        # Read the input file and populate the communities\n",
    "        with open(input_path, 'r') as infile:\n",
    "            for node_id, line in enumerate(infile):\n",
    "                community_id = int(line.strip())\n",
    "                communities[community_id].append(node_id + 1)  # Increment node_id by 1 to start from 1\n",
    "\n",
    "        # Write the communities to the output file in the desired format\n",
    "        with open(output_path, 'w') as outfile:\n",
    "            for community_id, nodes in communities.items():\n",
    "                outfile.write(f\"{community_id} \" + \" \".join(map(str, nodes)) + \"\\n\")\n",
    "\n",
    "        print(f\"Converted format written to {output_path}\")\n"
   ]
  }
 ],
 "metadata": {
  "kernelspec": {
   "display_name": "Python 3",
   "language": "python",
   "name": "python3"
  },
  "language_info": {
   "codemirror_mode": {
    "name": "ipython",
    "version": 3
   },
   "file_extension": ".py",
   "mimetype": "text/x-python",
   "name": "python",
   "nbconvert_exporter": "python",
   "pygments_lexer": "ipython3",
   "version": "3.6.15"
  }
 },
 "nbformat": 4,
 "nbformat_minor": 2
}
